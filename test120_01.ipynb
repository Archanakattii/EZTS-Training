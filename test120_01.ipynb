{
 "cells": [
  {
   "cell_type": "code",
   "execution_count": 2,
   "id": "689b0463",
   "metadata": {},
   "outputs": [
    {
     "name": "stdout",
     "output_type": "stream",
     "text": [
      "[1, 2, 4.5, 2.3, 'q', 8]\n",
      "[1, 2, 4.5, 2.3, 'q']\n",
      "[1, 4.5, 2.3, 'q']\n"
     ]
    }
   ],
   "source": [
    "l=[1,2,4.5,'q',8]\n",
    "l.insert(3,2.3)   #index value and element u wanna add\n",
    "print(l)\n",
    "l.pop() #takes index value by default it pops last value\n",
    "print(l)\n",
    "l.remove(2) #takes the element as the value not index value\n",
    "print(l)\n"
   ]
  },
  {
   "cell_type": "code",
   "execution_count": 24,
   "id": "064af5b5",
   "metadata": {},
   "outputs": [
    {
     "name": "stdout",
     "output_type": "stream",
     "text": [
      "enter the votes:1 2 3 4 3 3 4 2 2\n",
      "[1, 2, 3, 4, 3, 3, 4, 2, 2] [1, 3, 3, 2, 0, 0]\n"
     ]
    }
   ],
   "source": [
    "vote=list(map(int,input('enter the votes:').split(\" \")))\n",
    "count=[0]*6\n",
    "\n",
    "for i in vote:\n",
    "    count[i-1]=count[i-1]+1\n",
    "    print(i,count)\n",
    "      \n",
    "#print(vote,count)"
   ]
  },
  {
   "cell_type": "code",
   "execution_count": 26,
   "id": "f76bc2fa",
   "metadata": {},
   "outputs": [
    {
     "name": "stdout",
     "output_type": "stream",
     "text": [
      "enter the votes:1 2 3 4 3 4 3 3 3 2 3 2 3 3 4 5\n",
      "1 [1, 0, 0, 0, 0, 0]\n",
      "2 [1, 1, 0, 0, 0, 0]\n",
      "3 [1, 1, 1, 0, 0, 0]\n",
      "4 [1, 1, 1, 1, 0, 0]\n",
      "3 [1, 1, 2, 1, 0, 0]\n",
      "4 [1, 1, 2, 2, 0, 0]\n",
      "3 [1, 1, 3, 2, 0, 0]\n",
      "3 [1, 1, 4, 2, 0, 0]\n",
      "3 [1, 1, 5, 2, 0, 0]\n",
      "2 [1, 2, 5, 2, 0, 0]\n",
      "3 [1, 2, 6, 2, 0, 0]\n",
      "2 [1, 3, 6, 2, 0, 0]\n",
      "3 [1, 3, 7, 2, 0, 0]\n",
      "3 [1, 3, 8, 2, 0, 0]\n",
      "4 [1, 3, 8, 3, 0, 0]\n",
      "5 [1, 3, 8, 3, 1, 0]\n",
      "final count = [1, 3, 8, 3, 1, 0]\n",
      "8\n"
     ]
    }
   ],
   "source": [
    "vote=list(map(int,input(\"enter the votes:\").split(\" \")))\n",
    "count=[0]*6\n",
    "\n",
    "for i in vote:\n",
    "    count[i-1]=count[i-1]+1\n",
    "    print(i,count)\n",
    "    \n",
    "print(\"final count =\" , count) \n",
    "win=max(count)\n",
    "print(win)"
   ]
  },
  {
   "cell_type": "code",
   "execution_count": null,
   "id": "55ee7e76",
   "metadata": {},
   "outputs": [],
   "source": []
  }
 ],
 "metadata": {
  "kernelspec": {
   "display_name": "Python 3 (ipykernel)",
   "language": "python",
   "name": "python3"
  },
  "language_info": {
   "codemirror_mode": {
    "name": "ipython",
    "version": 3
   },
   "file_extension": ".py",
   "mimetype": "text/x-python",
   "name": "python",
   "nbconvert_exporter": "python",
   "pygments_lexer": "ipython3",
   "version": "3.11.5"
  }
 },
 "nbformat": 4,
 "nbformat_minor": 5
}
