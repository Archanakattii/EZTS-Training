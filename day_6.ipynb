{
 "cells": [
  {
   "cell_type": "code",
   "execution_count": 4,
   "id": "a2060890",
   "metadata": {},
   "outputs": [
    {
     "name": "stdout",
     "output_type": "stream",
     "text": [
      "2,23,78,1,10\n",
      "[1, 2, 10, 23, 78]\n"
     ]
    }
   ],
   "source": [
    "#sorting\n",
    "#bubble sort\n",
    "l=list(map(int,input().split(',')))\n",
    "n=len(l)\n",
    "for j in range(0,n):\n",
    "    for i in range(0,n-1-j):\n",
    "        if l[i]>l[i+1]:\n",
    "            l[i],l[i+1]=l[i+1],l[i]\n",
    "print(l)         \n"
   ]
  },
  {
   "cell_type": "code",
   "execution_count": 8,
   "id": "be2815df",
   "metadata": {},
   "outputs": [
    {
     "name": "stdout",
     "output_type": "stream",
     "text": [
      "23,10,2,89,23,2\n",
      "[2, 2, 10, 23, 23, 89]\n",
      "2\n"
     ]
    }
   ],
   "source": [
    "#minimum number out of list\n",
    "\n",
    "l=list(map(int,input().split(',')))\n",
    "n=len(l)\n",
    "for j in range(0,n):\n",
    "    for i in range(0,n-1-j):\n",
    "        if l[i]>l[i+1]:\n",
    "            l[i],l[i+1]=l[i+1],l[i]\n",
    "print(l)\n",
    "print(l[i])         \n"
   ]
  },
  {
   "cell_type": "code",
   "execution_count": 10,
   "id": "2edb87a8",
   "metadata": {},
   "outputs": [
    {
     "name": "stdout",
     "output_type": "stream",
     "text": [
      "23,45,9,78,56,1,24,7\n",
      "[1, 7, 9, 23, 24, 45, 56, 78]\n",
      "78\n"
     ]
    }
   ],
   "source": [
    "#selection sort ascending order\n",
    "\n",
    "l=list(map(int,input().split(',')))\n",
    "n=len(l)\n",
    "for j in range(0,n):\n",
    "    min=l[j]\n",
    "    pos=j\n",
    "    for i in range(j,n):\n",
    "        if l[i]< min:\n",
    "            min=l[i]\n",
    "            pos=i\n",
    "    l[j],l[pos]=l[pos],l[j]\n",
    "print(l)\n",
    "print(min)"
   ]
  },
  {
   "cell_type": "code",
   "execution_count": 11,
   "id": "7b9017d5",
   "metadata": {},
   "outputs": [
    {
     "name": "stdout",
     "output_type": "stream",
     "text": [
      "23,45,9,78,56,1,24,7\n",
      "[78, 56, 45, 24, 23, 9, 7, 1]\n",
      "1\n"
     ]
    }
   ],
   "source": [
    "#selection sort descending order\n",
    "\n",
    "l=list(map(int,input().split(',')))\n",
    "n=len(l)\n",
    "for j in range(0,n):\n",
    "    min=l[j]\n",
    "    pos=j\n",
    "    for i in range(j,n):\n",
    "        if l[i]> min:\n",
    "            min=l[i]\n",
    "            pos=i\n",
    "    l[j],l[pos]=l[pos],l[j]\n",
    "print(l)\n",
    "print(min)"
   ]
  },
  {
   "cell_type": "code",
   "execution_count": 12,
   "id": "657da60b",
   "metadata": {},
   "outputs": [
    {
     "name": "stdout",
     "output_type": "stream",
     "text": [
      "23,45,9,78,56,1,24,7\n",
      "78\n"
     ]
    }
   ],
   "source": [
    "l=list(map(int,input().split(',')))\n",
    "n=len(l)\n",
    "w=l[0]\n",
    "for i in range(0,n):\n",
    "    if l[i] > w:\n",
    "        w=l[i]\n",
    "print(w)"
   ]
  },
  {
   "cell_type": "code",
   "execution_count": 13,
   "id": "05cab58a",
   "metadata": {},
   "outputs": [
    {
     "name": "stdout",
     "output_type": "stream",
     "text": [
      "23,45,9,78,56,1,24,7\n",
      "1\n"
     ]
    }
   ],
   "source": [
    "l=list(map(int,input().split(',')))\n",
    "n=len(l)\n",
    "w=l[0]\n",
    "for i in range(0,n):\n",
    "    if l[i] < w:\n",
    "        w=l[i]\n",
    "print(w)"
   ]
  },
  {
   "cell_type": "code",
   "execution_count": 6,
   "id": "26f4acc1",
   "metadata": {},
   "outputs": [
    {
     "name": "stdout",
     "output_type": "stream",
     "text": [
      "23,45,9,78,56,1,24,7\n",
      "[1, 7, 9, 23, 24, 45, 56, 78]\n"
     ]
    }
   ],
   "source": [
    "#insertion sort\n",
    "\n",
    "L = list(map(int, input().split(',')))\n",
    "\n",
    "n = len(L)\n",
    "\n",
    "for i in range(1, n):\n",
    "    m = L[i]\n",
    "    j= i - 1\n",
    "    while j>=0 and m<L[j]:\n",
    "        L[j+ 1]=L[j]\n",
    "        j -= 1\n",
    "    L[j + 1] = key\n",
    "\n",
    "print(L)\n",
    "\n"
   ]
  },
  {
   "cell_type": "code",
   "execution_count": 14,
   "id": "dfc2c36c",
   "metadata": {},
   "outputs": [
    {
     "name": "stdout",
     "output_type": "stream",
     "text": [
      "0\n",
      "1\n",
      "2\n",
      "3\n",
      "4\n",
      "5\n",
      "6\n",
      "7\n",
      "8\n",
      "9\n"
     ]
    }
   ],
   "source": [
    "#recursion\n",
    "\n",
    "def print_num(n):\n",
    "    if n<10:\n",
    "        print(n)\n",
    "        print_num(n+1)\n",
    "print_num(0)"
   ]
  },
  {
   "cell_type": "code",
   "execution_count": 15,
   "id": "10c4f498",
   "metadata": {},
   "outputs": [
    {
     "name": "stdout",
     "output_type": "stream",
     "text": [
      "9\n",
      "8\n",
      "7\n",
      "6\n",
      "5\n",
      "4\n",
      "3\n",
      "2\n",
      "1\n",
      "0\n"
     ]
    }
   ],
   "source": [
    "def print_num(n):\n",
    "    if n<10:\n",
    "        print_num(n+1)\n",
    "        print(n)\n",
    "print_num(0)"
   ]
  },
  {
   "cell_type": "code",
   "execution_count": 22,
   "id": "448aa83c",
   "metadata": {},
   "outputs": [
    {
     "name": "stdout",
     "output_type": "stream",
     "text": [
      "3\n"
     ]
    }
   ],
   "source": [
    "#recursion fab series\n",
    "\n",
    "def fib(n):\n",
    "    if n==1:\n",
    "        return 0\n",
    "    elif n==2:\n",
    "        return 1\n",
    "    return fib(n-1)+fib(n-2)\n",
    "\n",
    "print(fib(5))"
   ]
  },
  {
   "cell_type": "code",
   "execution_count": 1,
   "id": "a9e571e5",
   "metadata": {},
   "outputs": [
    {
     "name": "stdout",
     "output_type": "stream",
     "text": [
      "24\n",
      "28657\n",
      "[92735]\n"
     ]
    }
   ],
   "source": [
    "#recursion fab series with greater time complexity (2)^n/2\n",
    "t=[0]\n",
    "def fib(n):\n",
    "    t[0]+=1\n",
    "    if n==1:\n",
    "        return 0\n",
    "    elif n==2:\n",
    "        return 1\n",
    "    return fib(n-1)+fib(n-2)\n",
    "\n",
    "if __name__==\"__main__\":\n",
    "    n=int(input())\n",
    "    print(fib(n))\n",
    "    print(t)"
   ]
  },
  {
   "cell_type": "code",
   "execution_count": 4,
   "id": "d0f6734b",
   "metadata": {},
   "outputs": [
    {
     "name": "stdout",
     "output_type": "stream",
     "text": [
      "5\n",
      "120\n",
      "[5]\n"
     ]
    }
   ],
   "source": [
    "#factorial with recursion and time complexity being n\n",
    "\n",
    "t=[0]\n",
    "def fact(n):\n",
    "    t[0]+=1\n",
    "    if (n==0) or (n==1):\n",
    "        return 1\n",
    "    else:\n",
    "        return n*fact(n-1)\n",
    "n=int(input())\n",
    "print(fact(n))\n",
    "print(t)"
   ]
  },
  {
   "cell_type": "code",
   "execution_count": 7,
   "id": "82a9e15d",
   "metadata": {
    "scrolled": true
   },
   "outputs": [
    {
     "name": "stdout",
     "output_type": "stream",
     "text": [
      "2 3 7 8 5 4 9 1 6\n",
      "5 0 8\n",
      "0 0 4\n",
      "1 1 4\n",
      "2 2 4\n",
      "4 3 4\n",
      "7 6 8\n",
      "sorted array =  [1, 2, 3, 4, 5, 6, 7, 8, 9]\n"
     ]
    }
   ],
   "source": [
    "#Quick sort \n",
    "#logrithmic time complexity\n",
    "def divide(L,Low,High):\n",
    "    P=L[High]\n",
    "    Pi=High\n",
    "    j=Low-1\n",
    "    for i in range(Low,High):\n",
    "        if L[i]<=P:\n",
    "            j+=1\n",
    "            L[i],L[j]=L[j],L[i]\n",
    "    j+=1\n",
    "    L[j],L[Pi]=L[Pi],L[j]\n",
    "    Pi=j\n",
    "    return Pi\n",
    "\n",
    "def Quick_sort(L,Low,High):\n",
    "    if Low<High:\n",
    "        Pi=divide(L,Low,High)\n",
    "        print(Pi,Low,High)\n",
    "        Quick_sort(L,Low,Pi-1)\n",
    "        Quick_sort(L,Pi+1,High)\n",
    "    return\n",
    "\n",
    "if __name__==\"__main__\": #not necessary to use main fuction everytime its just for practice\n",
    "    L=list(map(int,input().split( )))\n",
    "    Low=0\n",
    "    High=len(L)-1\n",
    "    Quick_sort(L,Low,High)\n",
    "    \n",
    "    print(\"sorted array = \",L)"
   ]
  },
  {
   "cell_type": "code",
   "execution_count": 3,
   "id": "d1bf73c2",
   "metadata": {},
   "outputs": [
    {
     "name": "stdout",
     "output_type": "stream",
     "text": [
      "2 3 7 8 5 4 9 1 6\n",
      "sorted array =  [1, 2, 3, 4, 5, 6, 7, 8, 9]\n"
     ]
    }
   ],
   "source": [
    "#merge sort\n",
    "\n",
    "def merge(L,low,mid,high):\n",
    "    left=L[low:mid+1]\n",
    "    right=L[mid+1:high+1]\n",
    "    \n",
    "    i=j=0\n",
    "    t=low\n",
    "    \n",
    "    while (i<len(left)) and (j<len(right)):\n",
    "        if left[i]<right[j]:\n",
    "            L[t]=left[i]\n",
    "            i+=1\n",
    "            \n",
    "        else:\n",
    "            L[t]=right[j]\n",
    "            j+=1\n",
    "        t+=1\n",
    "            \n",
    "    while i<len(left):\n",
    "        L[t]=left[i]\n",
    "        i+=1\n",
    "        t+=1\n",
    "        \n",
    "    while j<len(right):\n",
    "        L[t]=right[j]\n",
    "        j+=1\n",
    "        t+=1\n",
    "    \n",
    "        \n",
    "            \n",
    "            \n",
    "def mergesort(L,low,high):\n",
    "    if low<high:\n",
    "        mid=(low+high)//2\n",
    "        mergesort(L,low,mid)\n",
    "        mergesort(L,mid+1,high)\n",
    "        \n",
    "        merge(L,low,mid,high)\n",
    "    \n",
    "if __name__==\"__main__\": \n",
    "    L=list(map(int,input().split( )))\n",
    "    low=0\n",
    "    high=len(L)-1\n",
    "    mergesort(L,low,high)\n",
    "    \n",
    "    print(\"sorted array = \",L)"
   ]
  },
  {
   "cell_type": "code",
   "execution_count": null,
   "id": "91b9adbd",
   "metadata": {},
   "outputs": [],
   "source": []
  }
 ],
 "metadata": {
  "kernelspec": {
   "display_name": "Python 3 (ipykernel)",
   "language": "python",
   "name": "python3"
  },
  "language_info": {
   "codemirror_mode": {
    "name": "ipython",
    "version": 3
   },
   "file_extension": ".py",
   "mimetype": "text/x-python",
   "name": "python",
   "nbconvert_exporter": "python",
   "pygments_lexer": "ipython3",
   "version": "3.11.5"
  }
 },
 "nbformat": 4,
 "nbformat_minor": 5
}
