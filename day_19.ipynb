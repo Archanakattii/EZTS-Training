{
 "cells": [
  {
   "cell_type": "code",
   "execution_count": 1,
   "id": "ebd0f646",
   "metadata": {},
   "outputs": [
    {
     "name": "stdout",
     "output_type": "stream",
     "text": [
      "1 2 3 4 5 6 7 9 10 11 12 13 "
     ]
    }
   ],
   "source": [
    "class node:\n",
    "    def __init__(self,data):\n",
    "        self.value=data\n",
    "        self.left=None\n",
    "        self.right=None\n",
    "        \n",
    "def levelorder(root):\n",
    "    Q=[root]\n",
    "    Q.append(None)\n",
    "    \n",
    "    while len(Q)>0:\n",
    "        curr = Q.pop(0)\n",
    "        \n",
    "        if curr == None:\n",
    "            if len(Q)==0:\n",
    "                break\n",
    "            else:\n",
    "                Q.append(None)\n",
    "        \n",
    "        else:\n",
    "            print(curr.value,end=\" \")\n",
    "            if curr.left != None:\n",
    "                Q.append(curr.left)\n",
    "            if curr.right != None:\n",
    "                Q.append(curr.right)\n",
    "                          \n",
    "        \n",
    "if __name__==\"__main__\":\n",
    "    root=node(1)\n",
    "    \n",
    "    root.left=node(2)\n",
    "    root.right=node(3)\n",
    "    \n",
    "    root.left.left=node(4)\n",
    "    root.left.right=node(5)\n",
    "    \n",
    "    root.right.left=node(6)\n",
    "    root.right.right=node(7)\n",
    "    \n",
    "    root.left.right.left=node(9)\n",
    "    root.left.right.right=node(10)\n",
    "    root.right.right.right=node(11)\n",
    "    \n",
    "    root.left.right.left.left=node(12)\n",
    "    root.left.right.left.right=node(13)\n",
    "    \n",
    "    \n",
    "    levelorder(root)"
   ]
  },
  {
   "cell_type": "code",
   "execution_count": null,
   "id": "86be45af",
   "metadata": {},
   "outputs": [],
   "source": [
    "l=list()"
   ]
  },
  {
   "cell_type": "code",
   "execution_count": 10,
   "id": "abd6cee3",
   "metadata": {},
   "outputs": [
    {
     "name": "stdout",
     "output_type": "stream",
     "text": [
      "[1, 2, 4, 6, 3, 5, 8]\n"
     ]
    }
   ],
   "source": [
    "import heapq\n",
    "\n",
    "l=[3,2,4,6,1,5,8]\n",
    "heapq.heapify(l)\n",
    "print(l)"
   ]
  },
  {
   "cell_type": "code",
   "execution_count": 9,
   "id": "1fd15803",
   "metadata": {},
   "outputs": [
    {
     "name": "stdout",
     "output_type": "stream",
     "text": [
      "[8, 6, 5, 2, 1, 3, 4]\n"
     ]
    }
   ],
   "source": [
    "import heapq\n",
    "\n",
    "l=[3,2,4,6,1,5,8]\n",
    "heapq._heapify_max(l)\n",
    "print(l)"
   ]
  },
  {
   "cell_type": "code",
   "execution_count": 1,
   "id": "f009a7d9",
   "metadata": {},
   "outputs": [
    {
     "name": "stdout",
     "output_type": "stream",
     "text": [
      "[71, 65, 45, 30, 35, 42, 15, 20, 25]\n"
     ]
    }
   ],
   "source": [
    "import heapq\n",
    "# def insertion_heap(l,i):\n",
    "#     while i>0:\n",
    "#         if l[i]>l[i//2]:\n",
    "#             l[i//2]=l[i]\n",
    "#         else:\n",
    "#             break\n",
    "l=[20,25,15,30,35,42,45,71,65]\n",
    "heapq._heapify_max(l)\n",
    "\n",
    "print(l)\n",
    "# insertion_heap(l,i)"
   ]
  },
  {
   "cell_type": "code",
   "execution_count": 2,
   "id": "b2fe69a2",
   "metadata": {},
   "outputs": [
    {
     "name": "stdout",
     "output_type": "stream",
     "text": [
      "0\n",
      "1\n",
      "2\n",
      "3\n",
      "4\n",
      "5\n",
      "\n",
      "4\n",
      "5\n"
     ]
    }
   ],
   "source": [
    "#to remove\n",
    "l=[1,2,3,4,5,6]\n",
    "\n",
    "for i in range(len(l)):\n",
    "    print(l.index(i+1))\n",
    "l.remove(5)\n",
    "print()\n",
    "print(l.index(i+1))\n",
    "\n",
    "print(i)"
   ]
  },
  {
   "cell_type": "code",
   "execution_count": null,
   "id": "79d37d48",
   "metadata": {},
   "outputs": [],
   "source": []
  }
 ],
 "metadata": {
  "kernelspec": {
   "display_name": "Python 3 (ipykernel)",
   "language": "python",
   "name": "python3"
  },
  "language_info": {
   "codemirror_mode": {
    "name": "ipython",
    "version": 3
   },
   "file_extension": ".py",
   "mimetype": "text/x-python",
   "name": "python",
   "nbconvert_exporter": "python",
   "pygments_lexer": "ipython3",
   "version": "3.11.5"
  }
 },
 "nbformat": 4,
 "nbformat_minor": 5
}
