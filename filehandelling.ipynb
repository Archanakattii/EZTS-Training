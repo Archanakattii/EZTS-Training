{
 "cells": [
  {
   "cell_type": "code",
   "execution_count": 2,
   "id": "1f9b714d",
   "metadata": {},
   "outputs": [],
   "source": [
    "import os\n",
    "with open(\"ak.txt\",'w') as f:\n",
    "    f.write(\"hello\")\n",
    "    f.write(\" my name is archana katti\")\n",
    "    f.write(\" from ece bitm\")\n",
    "    f.close()\n",
    "    "
   ]
  },
  {
   "cell_type": "code",
   "execution_count": 3,
   "id": "2d9117c8",
   "metadata": {},
   "outputs": [
    {
     "name": "stdout",
     "output_type": "stream",
     "text": [
      "hello my name is archana katti from ece bitm\n"
     ]
    }
   ],
   "source": [
    "import os\n",
    "with open(\"ak.txt\",'r') as f:\n",
    "    print(f.read())\n",
    "    f.close()"
   ]
  },
  {
   "cell_type": "code",
   "execution_count": 9,
   "id": "66607fed",
   "metadata": {},
   "outputs": [],
   "source": [
    "with open(\"ak.txt\",'a') as f:\n",
    "    f.write(\" \\n hehe\")\n",
    "    f.close()"
   ]
  },
  {
   "cell_type": "code",
   "execution_count": 10,
   "id": "57e688fe",
   "metadata": {},
   "outputs": [
    {
     "name": "stdout",
     "output_type": "stream",
     "text": [
      "hello my name is archana katti from ece bitm hehe hehe\n",
      " \n",
      " hehe \n",
      " hehe\n"
     ]
    }
   ],
   "source": [
    "with open(\"ak.txt\",'r') as f:\n",
    "    print(f.read())\n",
    "    f.close()"
   ]
  },
  {
   "cell_type": "code",
   "execution_count": 11,
   "id": "0951839b",
   "metadata": {},
   "outputs": [
    {
     "name": "stdout",
     "output_type": "stream",
     "text": [
      "hello my name is archana katti from ece bitm hehe hehe\n",
      " \n",
      " hehe \n",
      " hehe\n",
      "hello my name is archana katti from ece bellary hehe hehe\n",
      " \n",
      " hehe \n",
      " hehe\n"
     ]
    }
   ],
   "source": [
    "with open(\"ak.txt\",'r') as f:\n",
    "    s=f.read()\n",
    "    print(s)\n",
    "    f.close()\n",
    "s=s.replace(\"bitm\",\"bellary\")\n",
    "print(s)"
   ]
  },
  {
   "cell_type": "code",
   "execution_count": 12,
   "id": "f9d1ea23",
   "metadata": {},
   "outputs": [
    {
     "name": "stdout",
     "output_type": "stream",
     "text": [
      "72\n"
     ]
    }
   ],
   "source": [
    "with open(\"ak.txt\",'a') as f:\n",
    "    print(f.tell())#to tell the position of the cursor in the file\n",
    "    f.close()"
   ]
  },
  {
   "cell_type": "code",
   "execution_count": 14,
   "id": "d0c523be",
   "metadata": {},
   "outputs": [
    {
     "name": "stdout",
     "output_type": "stream",
     "text": [
      "0\n",
      "ce bitm hehe hehe\r\n",
      " \r\n",
      " hehe \r\n",
      " hehe\n"
     ]
    }
   ],
   "source": [
    "with open(\"ak.txt\",'rb') as f:\n",
    "    print(f.tell())#to tell the position of the cursor in the file\n",
    "    \n",
    "    f.seek(-35,2) #to move the cursor in that position seek() only works in rb mode-read binary mode\n",
    "    print(f.read().decode('utf-8')) #we opened the file in binary mode so we convert it into readable mode\n",
    "    f.close()"
   ]
  },
  {
   "cell_type": "code",
   "execution_count": 15,
   "id": "28da45fd",
   "metadata": {},
   "outputs": [
    {
     "name": "stdout",
     "output_type": "stream",
     "text": [
      "0\n"
     ]
    }
   ],
   "source": [
    "with open(\"ak.txt\",'r+b') as f:\n",
    "    print(f.tell())\n",
    "    \n",
    "    f.seek(-35,2) \n",
    "    f.write(b\"#\") #to write new character on the cursor\n",
    "    #print(f.read().decode('utf-8')) \n",
    "    f.close()"
   ]
  },
  {
   "cell_type": "code",
   "execution_count": 3,
   "id": "34af5d78",
   "metadata": {},
   "outputs": [
    {
     "name": "stdout",
     "output_type": "stream",
     "text": [
      "0\n",
      "35\n",
      "##e bitm hehe hehe\r\n",
      " \r\n",
      " hehe \r\n",
      " hehe\n"
     ]
    }
   ],
   "source": [
    "with open(\"ak.txt\",'r+b') as f:\n",
    "    print(f.tell())\n",
    "    \n",
    "    f.seek(-37,2) \n",
    "    print(f.tell())\n",
    "    f.write(b\"#\") #to write new character on the cursor\n",
    "    print(f.read().decode('utf-8')) \n",
    "    f.close()"
   ]
  },
  {
   "cell_type": "code",
   "execution_count": 6,
   "id": "b573cd0b",
   "metadata": {},
   "outputs": [],
   "source": [
    "import os\n",
    "with open(\"file1.txt\",'w') as d:\n",
    "    d.write(\"hi\")\n",
    "    d.close()\n",
    "os.remove(\"file1.txt\") #to remove file"
   ]
  },
  {
   "cell_type": "code",
   "execution_count": 8,
   "id": "f9cb94be",
   "metadata": {},
   "outputs": [],
   "source": [
    "import os\n",
    "with open(\"file.txt\",'wb') as f:\n",
    "    eid = 1\n",
    "    name=\"bat\"\n",
    "    condition=\"good\"\n",
    "    s=f\"{eid},{name},{condition}\\n\"\n",
    "    f.write(s.encode())\n",
    "    s=f\"{eid},{name},{condition}\\n\"\n",
    "    f.write(s.encode())\n",
    "    f.close()"
   ]
  },
  {
   "cell_type": "code",
   "execution_count": 18,
   "id": "043dd3e7",
   "metadata": {},
   "outputs": [],
   "source": [
    "import os\n",
    "with open(\"file3.txt\",'wb') as f:\n",
    "    eid1 = 1\n",
    "    name1=\"bat\"\n",
    "    condition1=\"good\"\n",
    "    eid2 = 2\n",
    "    name2=\"ball\"\n",
    "    condition2=\"good\"\n",
    "    eid3 = 3\n",
    "    name3=\"jersey\"\n",
    "    condition3=\"bad\"\n",
    "    s=f\"{eid1},{name1},{condition1}\\n\"\n",
    "    f.write(s.encode())\n",
    "    s=f\"{eid2},{name2},{condition2}\\n\"\n",
    "    f.write(s.encode())\n",
    "    s=f\"{eid3},{name3},{condition3}\\n\"\n",
    "    f.write(s.encode())\n",
    "    f.close()\n",
    "    \n",
    "#too much work"
   ]
  },
  {
   "cell_type": "code",
   "execution_count": null,
   "id": "1b927e19",
   "metadata": {},
   "outputs": [],
   "source": [
    "import os\n",
    "with open(\"file2.txt\",'wb') as f:\n",
    "    db={\"eid\":[1,2,3],\"name\":[\"bat\",\"ball\",\"jersey\"],\"condition\":[\"good\",\"bad\"]}\n",
    "    for i in db.values():\n",
    "        s=f\"{{eid{i},name{i},condition{i}}}\\n\"\n",
    "        f.write(s.encode())\n",
    "    f.close()    \n",
    "#needs a lot of improvement"
   ]
  }
 ],
 "metadata": {
  "kernelspec": {
   "display_name": "Python 3 (ipykernel)",
   "language": "python",
   "name": "python3"
  },
  "language_info": {
   "codemirror_mode": {
    "name": "ipython",
    "version": 3
   },
   "file_extension": ".py",
   "mimetype": "text/x-python",
   "name": "python",
   "nbconvert_exporter": "python",
   "pygments_lexer": "ipython3",
   "version": "3.11.5"
  }
 },
 "nbformat": 4,
 "nbformat_minor": 5
}
