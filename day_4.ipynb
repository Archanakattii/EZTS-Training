{
 "cells": [
  {
   "cell_type": "code",
   "execution_count": 9,
   "id": "00e2c37c",
   "metadata": {},
   "outputs": [
    {
     "name": "stdout",
     "output_type": "stream",
     "text": [
      "archana\n",
      "{'A': 3, 'E': 0, 'I': 0, 'O': 0, 'U': 0}\n",
      "3\n",
      "A\n",
      "['A']\n"
     ]
    }
   ],
   "source": [
    "#logical for the below code\n",
    "\n",
    "s=input()\n",
    "dic={'A':0,'E':0,'I':0,'O':0,'U':0}\n",
    "for i in s:\n",
    "    if i=='a' or i=='A':\n",
    "        dic['A']+=1\n",
    "    elif i=='e' or i=='E':\n",
    "        dic['E']+=1\n",
    "    elif i=='i' or i=='I':\n",
    "        dic['I']+=1\n",
    "    elif i=='o' or i=='O':\n",
    "        dic['O']+=1\n",
    "    elif i=='u' or i=='U':\n",
    "        dic['U']+=1\n",
    "print(dic)\n",
    "\n",
    "x=max(dic.values())\n",
    "print(x)\n",
    "result=[]\n",
    "for i,j in dic.items():\n",
    "    if j==x:\n",
    "        print(i)\n",
    "        result.append(i)\n",
    "print(result)\n",
    "    "
   ]
  },
  {
   "cell_type": "code",
   "execution_count": 6,
   "id": "672f3d65",
   "metadata": {},
   "outputs": [
    {
     "name": "stdout",
     "output_type": "stream",
     "text": [
      "{'alex': ['I', 'O'], 'sam': ['I'], 'ani': ['A', 'I']}\n"
     ]
    }
   ],
   "source": [
    "#the actual code for the problem statement OCCURANCE OF VOWELS\n",
    "\n",
    "def count_vowel(s):\n",
    "    dic={'A':0,'E':0,'I':0,'O':0,'U':0}\n",
    "    for i in s:\n",
    "        if i=='a' or i=='A':\n",
    "            dic['A']+=1\n",
    "        elif i=='e' or i=='E':\n",
    "            dic['E']+=1\n",
    "        elif i=='i' or i=='I':\n",
    "            dic['I']+=1\n",
    "        elif i=='o' or i=='O':\n",
    "            dic['O']+=1\n",
    "        elif i=='u' or i=='U':\n",
    "            dic['U']+=1\n",
    "\n",
    "    x=max(dic.values())\n",
    "    result=[]\n",
    "    for i,j in dic.items():\n",
    "        if j==x:\n",
    "            result.append(i)\n",
    "    return result\n",
    "\n",
    "\n",
    "i_p=[[\"alex\",\"im going out\"],\n",
    "     [\"sam\",\"i love playing\"],\n",
    "     [\"ani\",\"i like playing basketball\"]]\n",
    "\n",
    "o_p={}\n",
    "\n",
    "for i in i_p:\n",
    "    o_p[i[0]]=count_vowel(i[1])\n",
    "\n",
    "print(o_p)"
   ]
  },
  {
   "cell_type": "code",
   "execution_count": 9,
   "id": "6ff2252a",
   "metadata": {},
   "outputs": [
    {
     "name": "stdout",
     "output_type": "stream",
     "text": [
      "17 4 6 7\n"
     ]
    }
   ],
   "source": [
    "#given an integer array your task is to find the k continious digits which gives you the maximum sum\n",
    "n=[2,4,3,5,6,3,4,6,7,1,2,5]\n",
    "sum=max=0\n",
    "for i in range(0,len(n)-2):\n",
    "    sum =n[i]+n[i+1]+n[i+2]\n",
    "    if max<=sum:\n",
    "        max=sum\n",
    "        p=i\n",
    "print(max,n[p],n[p+1],n[p+2])\n"
   ]
  },
  {
   "cell_type": "code",
   "execution_count": 7,
   "id": "48ff719a",
   "metadata": {},
   "outputs": [
    {
     "name": "stdout",
     "output_type": "stream",
     "text": [
      "enter the no of continious digit4\n",
      "20\n",
      "3\n",
      "4\n",
      "6\n",
      "7\n"
     ]
    }
   ],
   "source": [
    "#given an integer array your task is to find the k continious digits which gives you the maximum sum.where k is entered by user\n",
    "\n",
    "n=[2,4,3,5,6,3,4,6,7,1,2,5]\n",
    "k=int(input(\"enter the no of continious digit\"))\n",
    "sum=max=0\n",
    "for i in range(0,len(n)-(k-1)):\n",
    "    sum=0\n",
    "    for j in range(0,k):\n",
    "        sum+=n[i+j]\n",
    "    if max<sum:\n",
    "        max=sum\n",
    "        p=i\n",
    "print(max)\n",
    "for j in range(0,k):\n",
    "    print(n[p+j])"
   ]
  },
  {
   "cell_type": "code",
   "execution_count": 6,
   "id": "348194ab",
   "metadata": {},
   "outputs": [
    {
     "name": "stdout",
     "output_type": "stream",
     "text": [
      "enter the no of continious digit3\n",
      "27\n",
      "9\n",
      "9\n",
      "9\n"
     ]
    }
   ],
   "source": [
    "#\"sliding window\" time complexity\n",
    "\n",
    "n=[2,4,3,5,6,3,4,6,7,1,2,5,9,9,9]\n",
    "window = max = 0\n",
    "k=int(input(\"enter the no of continious digit\"))\n",
    "\n",
    "for j in range(0,k):\n",
    "    window+=n[j]\n",
    "    \n",
    "n.append(0)\n",
    "for i in range(0,len(n)-k):\n",
    "    if max<=window:\n",
    "        max=window\n",
    "        p=i\n",
    "    window = window+n[i+k]-n[i]\n",
    "       \n",
    "print(max)\n",
    "for j in range(0,k):\n",
    "    print(n[p+j])"
   ]
  },
  {
   "cell_type": "code",
   "execution_count": null,
   "id": "149546c4",
   "metadata": {},
   "outputs": [],
   "source": []
  }
 ],
 "metadata": {
  "kernelspec": {
   "display_name": "Python 3 (ipykernel)",
   "language": "python",
   "name": "python3"
  },
  "language_info": {
   "codemirror_mode": {
    "name": "ipython",
    "version": 3
   },
   "file_extension": ".py",
   "mimetype": "text/x-python",
   "name": "python",
   "nbconvert_exporter": "python",
   "pygments_lexer": "ipython3",
   "version": "3.11.5"
  }
 },
 "nbformat": 4,
 "nbformat_minor": 5
}
