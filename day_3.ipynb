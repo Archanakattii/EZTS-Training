{
 "cells": [
  {
   "cell_type": "code",
   "execution_count": 1,
   "id": "09cd5de1",
   "metadata": {},
   "outputs": [
    {
     "name": "stdout",
     "output_type": "stream",
     "text": [
      "arch 20 F\n",
      "<class '__main__.INT'>\n"
     ]
    }
   ],
   "source": [
    "class INT :\n",
    "    def __init__(self,nm,ag,gn):\n",
    "        self.name = nm\n",
    "        self.age = ag\n",
    "        self.gender = gn\n",
    "\n",
    "\n",
    "st1 = INT(\"arch\",20,'F')\n",
    "\n",
    "print(st1.name,st1.age,st1.gender)\n",
    "\n",
    "print(type(st1))"
   ]
  },
  {
   "cell_type": "code",
   "execution_count": 2,
   "id": "f5362ed1",
   "metadata": {},
   "outputs": [
    {
     "name": "stdout",
     "output_type": "stream",
     "text": [
      "Enter your Name: aj\n",
      "Enter your age: 22\n",
      "Enter Your Gender: m\n",
      "aj 22 m\n"
     ]
    }
   ],
   "source": [
    "class STD:\n",
    "    def __init__(self):\n",
    "        self.name = None\n",
    "        self.age = None\n",
    "        self.gender = None\n",
    "\n",
    "st2 = STD()\n",
    "\n",
    "st2.name = input(\"Enter your Name: \")\n",
    "st2.age = int(input(\"Enter your age: \"))\n",
    "st2.gender = input(\"Enter Your Gender: \")\n",
    "\n",
    "\n",
    "print(st2.name,st2.age,st2.gender)"
   ]
  },
  {
   "cell_type": "code",
   "execution_count": 3,
   "id": "542aebdc",
   "metadata": {},
   "outputs": [
    {
     "name": "stdout",
     "output_type": "stream",
     "text": [
      "Enter your Name: ak\n",
      "Enter your age: 20\n",
      "Enter Your Gender: f\n",
      "ak 20 f\n",
      "ak 21 f\n"
     ]
    }
   ],
   "source": [
    "class STUDENT :\n",
    "    def __init__(self,a,b,c):\n",
    "        self.name = a\n",
    "        self.age = b\n",
    "        self.gender = c\n",
    "\n",
    "a = input(\"Enter your Name: \")\n",
    "b = int(input(\"Enter your age: \"))\n",
    "c = input(\"Enter Your Gender: \")\n",
    "\n",
    "\n",
    "st3 = STUDENT(a,b,c)\n",
    "\n",
    "print(st3.name,st3.age,st3.gender)\n",
    "\n",
    "st3.age =21\n",
    "\n",
    "print(st3.name,st3.age,st3.gender)"
   ]
  },
  {
   "cell_type": "code",
   "execution_count": 4,
   "id": "04d98579",
   "metadata": {},
   "outputs": [
    {
     "name": "stdout",
     "output_type": "stream",
     "text": [
      "<class 'int'>\n",
      "<class 'str'>\n",
      "<class 'float'>\n",
      "<class 'list'>\n",
      "<class 'dict'>\n"
     ]
    }
   ],
   "source": [
    "a =1\n",
    "b ='sdfg'\n",
    "c = 2.4\n",
    "d = ['sdg','sd',1,3]\n",
    "e = {1:\"sdfg\",2:\"fsfdsf\"}\n",
    "\n",
    "print(type(a))\n",
    "print(type(b))\n",
    "print(type(c))\n",
    "print(type(d))\n",
    "print(type(e))"
   ]
  },
  {
   "cell_type": "code",
   "execution_count": 5,
   "id": "8e55b446",
   "metadata": {},
   "outputs": [
    {
     "name": "stdout",
     "output_type": "stream",
     "text": [
      "abc 21 M\n",
      "<class '__main__.INT'>\n"
     ]
    }
   ],
   "source": [
    "st4 = INT(\"abc\",21,'M')\n",
    "print(st4.name,st4.age,st4.gender)\n",
    "print(type(st4))"
   ]
  },
  {
   "cell_type": "code",
   "execution_count": 6,
   "id": "9ba0e917",
   "metadata": {},
   "outputs": [
    {
     "name": "stdout",
     "output_type": "stream",
     "text": [
      "2\n",
      "5\n"
     ]
    }
   ],
   "source": [
    "class A:\n",
    "    def __init__(self,a,b):\n",
    "        self.A = a\n",
    "        self.__B = b\n",
    "        \n",
    "    def printB(self):\n",
    "        print(self.__B)\n",
    "\n",
    "ob1 = A(2,5)\n",
    "\n",
    "print(ob1.A)\n",
    "ob1.printB()"
   ]
  },
  {
   "cell_type": "code",
   "execution_count": 7,
   "id": "a4195266",
   "metadata": {},
   "outputs": [
    {
     "name": "stdout",
     "output_type": "stream",
     "text": [
      "<class '__main__.Std'>\n"
     ]
    }
   ],
   "source": [
    "class Std:\n",
    "    def __init__(self): \n",
    "        self.__USN = None\n",
    "        self.__Name = None\n",
    "        self.__Marks = []\n",
    "        self.__Percentage = None\n",
    "        self.__Grade = None\n",
    "\n",
    "    def Std_Input(self):\n",
    "        self.__Name = input(\"Enter your Name: \")\n",
    "        self.__USN = input(\"Enter Your USN: \")\n",
    "        for i in range (0,5):\n",
    "            marks = input(f\"Enter Your Marks in Sub{i+1} : \")\n",
    "            self.__Marks.append(marks)\n",
    "\n",
    "    def calc_percentage (self):\n",
    "        sum = 0\n",
    "        for i in self.__Marks:\n",
    "            sum = sum + int(i)\n",
    "        self.__Percentage = (sum/500)*100\n",
    "\n",
    "    def calc_Grade(self):\n",
    "        per = float(self.__Percentage)\n",
    "        if per<=100 and per >=80:\n",
    "            self.__Grade = \"A\"\n",
    "        elif per<80 and per >=60:\n",
    "            self.__Grade = \"B\"\n",
    "        elif per<60 and per >=40:\n",
    "            self.__Grade = \"C\"\n",
    "        elif per<40 and per >=0:\n",
    "            self.__Grade = \"D\"\n",
    "        else: \n",
    "            self.__Grade = \"Inavlid\"\n",
    "\n",
    "    def print_details(self):\n",
    "        print(\"Name: \",self.__Name)\n",
    "        print(\"USN : \",self.__USN)\n",
    "        print(\"Marks in Five Subject are :\")\n",
    "        for i in range(0,5):\n",
    "            print(f\"Subject {i+1} = {self.__Marks[i]}\")\n",
    "        print(\"Percentage : \", self.__Percentage)\n",
    "        print(\"Grade : \", self.__Grade)\n",
    "\n",
    "\n",
    "\n",
    "st1 = Std()\n",
    "\n",
    "print(type(st1))"
   ]
  },
  {
   "cell_type": "code",
   "execution_count": 8,
   "id": "16591aa5",
   "metadata": {},
   "outputs": [
    {
     "name": "stdout",
     "output_type": "stream",
     "text": [
      "Enter your Name: ak\n",
      "Enter Your USN: ec062\n",
      "Enter Your Marks in Sub1 : 100\n",
      "Enter Your Marks in Sub2 : 100\n",
      "Enter Your Marks in Sub3 : 100\n",
      "Enter Your Marks in Sub4 : 100\n",
      "Enter Your Marks in Sub5 : 100\n"
     ]
    }
   ],
   "source": [
    "st1.Std_Input()"
   ]
  },
  {
   "cell_type": "code",
   "execution_count": 9,
   "id": "43eb01e9",
   "metadata": {},
   "outputs": [
    {
     "name": "stdout",
     "output_type": "stream",
     "text": [
      "Name:  ak\n",
      "USN :  ec062\n",
      "Marks in Five Subject are :\n",
      "Subject 1 = 100\n",
      "Subject 2 = 100\n",
      "Subject 3 = 100\n",
      "Subject 4 = 100\n",
      "Subject 5 = 100\n",
      "Percentage :  None\n",
      "Grade :  None\n"
     ]
    }
   ],
   "source": [
    "st1.print_details()"
   ]
  },
  {
   "cell_type": "code",
   "execution_count": 10,
   "id": "fb20603c",
   "metadata": {},
   "outputs": [
    {
     "name": "stdout",
     "output_type": "stream",
     "text": [
      "Name:  ak\n",
      "USN :  ec062\n",
      "Marks in Five Subject are :\n",
      "Subject 1 = 100\n",
      "Subject 2 = 100\n",
      "Subject 3 = 100\n",
      "Subject 4 = 100\n",
      "Subject 5 = 100\n",
      "Percentage :  100.0\n",
      "Grade :  None\n"
     ]
    }
   ],
   "source": [
    "st1.calc_percentage()\n",
    "st1.print_details()"
   ]
  },
  {
   "cell_type": "code",
   "execution_count": 11,
   "id": "cfc3d179",
   "metadata": {},
   "outputs": [
    {
     "name": "stdout",
     "output_type": "stream",
     "text": [
      "Name:  ak\n",
      "USN :  ec062\n",
      "Marks in Five Subject are :\n",
      "Subject 1 = 100\n",
      "Subject 2 = 100\n",
      "Subject 3 = 100\n",
      "Subject 4 = 100\n",
      "Subject 5 = 100\n",
      "Percentage :  100.0\n",
      "Grade :  A\n"
     ]
    }
   ],
   "source": [
    "st1.calc_Grade()\n",
    "st1.print_details()"
   ]
  },
  {
   "cell_type": "code",
   "execution_count": 12,
   "id": "2c9a1dce",
   "metadata": {},
   "outputs": [
    {
     "name": "stdout",
     "output_type": "stream",
     "text": [
      "Enter the message: 23\n",
      "Valid Messgae\n"
     ]
    }
   ],
   "source": [
    "#ENCRYPTION KEY BASED ON PRIME NUMBERS\n",
    "m = int(input(\"Enter the message: \"))\n",
    "flag = 0\n",
    "if m<1:\n",
    "    flag = 1\n",
    "elif m == 1:\n",
    "    flag = 0\n",
    "else:\n",
    "    for i in range(2,(m//2)+1):\n",
    "        if m%i == 0:\n",
    "            flag = 1\n",
    "            break\n",
    "    \n",
    "if flag == 0:\n",
    "    print(\"Valid Messgae\")\n",
    "else:\n",
    "    print(\"invalid Message\")"
   ]
  },
  {
   "cell_type": "code",
   "execution_count": 13,
   "id": "46f3aa0d",
   "metadata": {},
   "outputs": [
    {
     "name": "stdout",
     "output_type": "stream",
     "text": [
      "Enter the no of terms: 5\n",
      "0\n",
      "1\n",
      "1\n",
      "2\n",
      "3\n"
     ]
    }
   ],
   "source": [
    "#fibnocci series\n",
    "\n",
    "n= int(input(\"Enter the no of terms: \"))\n",
    "\n",
    "a=0\n",
    "b=1\n",
    "c=a+b\n",
    "if n==1:\n",
    "    print(a)\n",
    "elif n==2:\n",
    "    print(a)\n",
    "    print(b)\n",
    "else:\n",
    "    print(a)\n",
    "    print(b)\n",
    "    for i in range(2,n):\n",
    "        print(c)\n",
    "        a=b\n",
    "        b=c\n",
    "        c=a+b"
   ]
  },
  {
   "cell_type": "code",
   "execution_count": 16,
   "id": "f30afcf6",
   "metadata": {},
   "outputs": [
    {
     "name": "stdout",
     "output_type": "stream",
     "text": [
      "19\n",
      "(23, 63, False)\n"
     ]
    }
   ],
   "source": [
    "def check_prime(m):\n",
    "    flag = 0\n",
    "    if m<1:\n",
    "        flag = 1\n",
    "    elif m == 1:\n",
    "        flag = 0\n",
    "    else:\n",
    "        for i in range(2,(m//2)+1):\n",
    "            if m%i == 0:\n",
    "                flag = 1\n",
    "                break\n",
    "    \n",
    "    if flag == 0:\n",
    "        return 1\n",
    "    else:\n",
    "        return 0\n",
    "\n",
    "result=[]\n",
    "N=int(input())\n",
    "flag=0\n",
    "k=N+1\n",
    "while flag<1:\n",
    "    flag = check_prime(k)\n",
    "    if flag == 1:\n",
    "        result.append(k)\n",
    "    else:\n",
    "        k=k+1\n",
    "\n",
    "sum = 0\n",
    "for i in range (N+1,k):\n",
    "    sum+=i\n",
    "\n",
    "result.append(sum)\n",
    "\n",
    "\n",
    "\n",
    "p1=k\n",
    "flag=0\n",
    "k=p1+1\n",
    "while flag<1:\n",
    "    flag = check_prime(k)\n",
    "    if flag == 1:\n",
    "        p2=k\n",
    "    else:\n",
    "        k=k+1\n",
    "\n",
    "p3=p1*p2\n",
    "flag=check_prime(p3)\n",
    "if flag == 0:\n",
    "    result.append(False)\n",
    "else:\n",
    "    result.append(True)\n",
    "\n",
    "Prime_key=tuple(result)\n",
    "\n",
    "print(Prime_key)"
   ]
  },
  {
   "cell_type": "code",
   "execution_count": null,
   "id": "04129e6a",
   "metadata": {},
   "outputs": [],
   "source": []
  }
 ],
 "metadata": {
  "kernelspec": {
   "display_name": "Python 3 (ipykernel)",
   "language": "python",
   "name": "python3"
  },
  "language_info": {
   "codemirror_mode": {
    "name": "ipython",
    "version": 3
   },
   "file_extension": ".py",
   "mimetype": "text/x-python",
   "name": "python",
   "nbconvert_exporter": "python",
   "pygments_lexer": "ipython3",
   "version": "3.11.5"
  }
 },
 "nbformat": 4,
 "nbformat_minor": 5
}
