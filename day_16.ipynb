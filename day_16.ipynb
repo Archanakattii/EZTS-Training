{
 "cells": [
  {
   "cell_type": "code",
   "execution_count": 5,
   "id": "2099aa41",
   "metadata": {},
   "outputs": [
    {
     "name": "stdout",
     "output_type": "stream",
     "text": [
      "10 23 45 67 80 100\n",
      "[10, 23, 45, 67, 80, 100]\n",
      "5\n"
     ]
    }
   ],
   "source": [
    "class node:\n",
    "    def __init__(self,data):\n",
    "        self.value=data\n",
    "        self.next=None\n",
    "\n",
    "l=list(map(int,input().split()))\n",
    "rem=0\n",
    "for i in range(len(l)):\n",
    "    rem=i%10\n",
    "    if rem==l[i]:\n",
    "        l.insert(i,node(l))\n",
    "        \n",
    "print(l)\n",
    "print(rem)\n"
   ]
  },
  {
   "cell_type": "code",
   "execution_count": 7,
   "id": "3779bf19",
   "metadata": {},
   "outputs": [
    {
     "name": "stdout",
     "output_type": "stream",
     "text": [
      "10\n",
      "20\n",
      "30\n"
     ]
    }
   ],
   "source": [
    "class node:\n",
    "    def __init__(self,data):\n",
    "        self.value=data\n",
    "        self.next=None\n",
    "    \n",
    "    def ins(self):\n",
    "        tail.next=temp\n",
    "        tail=temp\n",
    "        \n",
    "def print_link_list(Head):\n",
    "    if Head==None:\n",
    "        print('list is empty')\n",
    "        return\n",
    "    curr=Head\n",
    "\n",
    "    while curr!=None:\n",
    "        print(curr.value)\n",
    "        curr=curr.next\n",
    "        \n",
    "\n",
    "Head=node(10)\n",
    "Head.next=node(20)\n",
    "Head.next.next=node(30)\n",
    "print_link_list(Head)"
   ]
  },
  {
   "cell_type": "code",
   "execution_count": 1,
   "id": "7f07917e",
   "metadata": {},
   "outputs": [
    {
     "name": "stdout",
     "output_type": "stream",
     "text": [
      "[10, 100, 22, 42, 50, 92, 56, 47, 78, 99]\n"
     ]
    }
   ],
   "source": [
    "#HASHING\n",
    "\n",
    "l=[22,10,47,42,56,100,50,92,99,78]\n",
    "hash_t=[False]*10\n",
    "for element in l:\n",
    "    h_k=element%10\n",
    "    for i in range(len(l)):\n",
    "        h1_k=(h_k+i)%10\n",
    "        if hash_t[h1_k]==False:\n",
    "            hash_t[h1_k]=element\n",
    "            break\n",
    "print(hash_t)"
   ]
  },
  {
   "cell_type": "code",
   "execution_count": null,
   "id": "b2a8bc2e",
   "metadata": {},
   "outputs": [],
   "source": []
  }
 ],
 "metadata": {
  "kernelspec": {
   "display_name": "Python 3 (ipykernel)",
   "language": "python",
   "name": "python3"
  },
  "language_info": {
   "codemirror_mode": {
    "name": "ipython",
    "version": 3
   },
   "file_extension": ".py",
   "mimetype": "text/x-python",
   "name": "python",
   "nbconvert_exporter": "python",
   "pygments_lexer": "ipython3",
   "version": "3.11.5"
  }
 },
 "nbformat": 4,
 "nbformat_minor": 5
}
